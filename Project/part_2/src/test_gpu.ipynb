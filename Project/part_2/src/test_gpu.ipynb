{
 "cells": [
  {
   "cell_type": "code",
   "execution_count": 2,
   "id": "initial_id",
   "metadata": {
    "collapsed": true,
    "ExecuteTime": {
     "end_time": "2024-04-07T15:05:24.653817700Z",
     "start_time": "2024-04-07T15:05:22.910690800Z"
    }
   },
   "outputs": [
    {
     "name": "stdout",
     "output_type": "stream",
     "text": [
      "CUDA (GPU) 不可用。\n"
     ]
    }
   ],
   "source": [
    "import torch\n",
    "\n",
    "# 检查CUDA（即GPU）是否可用\n",
    "if torch.cuda.is_available():\n",
    "    print(\"CUDA (GPU) 可用！\")\n",
    "    # 获取GPU数量和型号名称\n",
    "    print(f\"GPU数量: {torch.cuda.device_count()}\")\n",
    "    for i in range(torch.cuda.device_count()):\n",
    "        print(f\"GPU {i}: {torch.cuda.get_device_name(i)}\")\n",
    "else:\n",
    "    print(\"CUDA (GPU) 不可用。\")\n"
   ]
  },
  {
   "cell_type": "code",
   "execution_count": 1,
   "outputs": [
    {
     "name": "stdout",
     "output_type": "stream",
     "text": [
      "['E:\\\\Mcgill 课程\\\\math 308\\\\midterm\\\\code2', 'C:\\\\Program Files\\\\python\\\\python311.zip', 'C:\\\\Program Files\\\\python\\\\DLLs', 'C:\\\\Program Files\\\\python\\\\Lib', 'C:\\\\Program Files\\\\python', '', 'C:\\\\Program Files\\\\python\\\\Lib\\\\site-packages', 'C:\\\\Program Files\\\\python\\\\Lib\\\\site-packages\\\\win32', 'C:\\\\Program Files\\\\python\\\\Lib\\\\site-packages\\\\win32\\\\lib', 'C:\\\\Program Files\\\\python\\\\Lib\\\\site-packages\\\\Pythonwin']\n"
     ]
    }
   ],
   "source": [
    "import sys\n",
    "print(sys.path)"
   ],
   "metadata": {
    "collapsed": false,
    "ExecuteTime": {
     "end_time": "2024-04-07T15:00:04.740499900Z",
     "start_time": "2024-04-07T15:00:04.732506300Z"
    }
   },
   "id": "ef35c308f7f152e9"
  }
 ],
 "metadata": {
  "kernelspec": {
   "display_name": "Python 3",
   "language": "python",
   "name": "python3"
  },
  "language_info": {
   "codemirror_mode": {
    "name": "ipython",
    "version": 2
   },
   "file_extension": ".py",
   "mimetype": "text/x-python",
   "name": "python",
   "nbconvert_exporter": "python",
   "pygments_lexer": "ipython2",
   "version": "2.7.6"
  }
 },
 "nbformat": 4,
 "nbformat_minor": 5
}
