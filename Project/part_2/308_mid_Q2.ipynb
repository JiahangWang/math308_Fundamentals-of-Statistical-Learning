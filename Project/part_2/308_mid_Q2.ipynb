{
 "cells": [
  {
   "cell_type": "code",
   "execution_count": 3,
   "id": "initial_id",
   "metadata": {
    "collapsed": true,
    "ExecuteTime": {
     "end_time": "2024-02-21T07:45:11.702598Z",
     "start_time": "2024-02-21T07:45:11.091758400Z"
    }
   },
   "outputs": [],
   "source": [
    "import numpy as np\n",
    "from PIL import Image\n",
    "import os"
   ]
  },
  {
   "cell_type": "markdown",
   "source": [
    "# Part 1\n",
    "- The approximation would consist of a grayscale image where the overall shape of the moon is captured but with no details. The variations in intensity across the moon's surface, such as craters and maria, would not be represented.\n",
    "\n",
    "- The brightest part of the moon would likely be the most prominent feature in the approximation, as it contributes most to the variance. The darkest regions (the black background) would contribute least and hence would be approximated as uniform darkness.\n",
    "\n",
    "The rank 1 approximation would attempt to capture the most dominant feature of the image. Since the image is grayscale, the dominant feature is typically related to the largest variance in intensity, which might associated with the brightest or the largest structure in the image.\n",
    "<br>\n",
    "<center>\n",
    "<img src=\"./src/moon.png\" width=\"800\" /> \n",
    "</center>"
   ],
   "metadata": {
    "collapsed": false
   },
   "id": "4c6f8ae75f231554"
  },
  {
   "cell_type": "markdown",
   "source": [
    "# Part 2"
   ],
   "metadata": {
    "collapsed": false
   },
   "id": "ef22f3a6fd1b6c80"
  },
  {
   "cell_type": "code",
   "execution_count": 4,
   "outputs": [
    {
     "name": "stdout",
     "output_type": "stream",
     "text": [
      "All rank k approximations have been saved.\n"
     ]
    }
   ],
   "source": [
    "output_dir = './image'\n",
    "if not os.path.exists(output_dir):\n",
    "    os.makedirs(output_dir)\n",
    "\n",
    "# Load the image\n",
    "image_path = './src/p5_image.gif'\n",
    "image = Image.open(image_path)\n",
    "image_matrix = np.array(image)\n",
    "\n",
    "# Perform SVD on the image matrix\n",
    "U, s, Vt = np.linalg.svd(image_matrix, full_matrices=False)\n",
    "\n",
    "# List of k values for rank k approximations\n",
    "k_values = [1, 3, 10, 20, 50, 100, 150, 200, 400, 800, 1170]\n",
    "\n",
    "# Function to normalize the image\n",
    "def normalize_image(matrix):\n",
    "    min_val = np.min(matrix)\n",
    "    max_val = np.max(matrix)\n",
    "    normalized_matrix = (matrix - min_val) / (max_val - min_val)\n",
    "    return normalized_matrix\n",
    "\n",
    "# Recover and save the rank k approximations\n",
    "for k in k_values:\n",
    "    # Use the top k singular values and vectors\n",
    "    S = np.diag(s[:k])\n",
    "    U_k = U[:, :k]\n",
    "    Vt_k = Vt[:k, :]\n",
    "    \n",
    "    # Reconstruct the image\n",
    "    image_reconstructed = U_k @ S @ Vt_k\n",
    "    \n",
    "    # Normalize the reconstructed image\n",
    "    image_normalized = normalize_image(image_reconstructed)\n",
    "    \n",
    "    # Convert to image and save\n",
    "    image_save = Image.fromarray(np.uint8(image_normalized * 255))\n",
    "    image_save.save(os.path.join(output_dir, f'alice_rank_{k}.png'))\n",
    "\n",
    "print(\"All rank k approximations have been saved.\")"
   ],
   "metadata": {
    "collapsed": false,
    "ExecuteTime": {
     "end_time": "2024-02-21T07:45:18.363552700Z",
     "start_time": "2024-02-21T07:45:14.309335400Z"
    }
   },
   "id": "8eebe5a7437234ed"
  },
  {
   "cell_type": "markdown",
   "source": [
    "recovered drawing for k = 150\n",
    "<br>\n",
    "<img src=\"image/alice_rank_150.png\" width=\"400\" /> "
   ],
   "metadata": {
    "collapsed": false
   },
   "id": "77e7caca6c7eadf9"
  },
  {
   "cell_type": "markdown",
   "source": [
    "# Part 3\n",
    "We stopped at 1170 because that is the maximum number of singular values for the given 1600 × 1170 image, corresponding to the smaller dimension of the image. In SVD, the number of singular values (and thus the maximum rank of the approximation) is limited by the smaller of the two dimensions of the original matrix (image in this case), which is 1170. This means we cannot have a rank higher than 1170 for this particular image's SVD approximation."
   ],
   "metadata": {
    "collapsed": false
   },
   "id": "1c015fe0a78e8f80"
  },
  {
   "cell_type": "markdown",
   "source": [
    "# Part 4\n",
    "\n",
    "To efficiently store the rank 150 approximation of the image, we need to consider the storage of three components: $U$ matrix, $\\Lambda$ diagonal matrix, and the $V^T$ matrix\n",
    "To calculate the memory required:\n",
    "\n",
    "- For $U$, we store $1600 \\times 150$ units.\n",
    "- For $\\Lambda$, we store $150$ units.\n",
    "- For $V^T$, we store $150 \\times 1170$ units.\n",
    "\n",
    "total memory of approximation required:\n",
    "- $\\text{Total Memory} = (1600 \\times 150) + 150 + (150 \\times 1170) = 415650$\n",
    "\n",
    "Naively saving the image as a matrix of pixel values, where the original image is $1600 \\times 1170$. The memory required in that case is:\n",
    "\n",
    "- $ \\text{Naive Storage} = 1600 \\times 1170 = 1872000$\n",
    "\n",
    "To efficiently store the rank $150$ approximation, it requires $415650$ units of memory. In contrast, naively saving the image as a matrix of pixel values requires $1872000$ units of memory. Thus, using the rank $150$ approximation saves $1456350$ units of memory compared to the naive approach."
   ],
   "metadata": {
    "collapsed": false
   },
   "id": "a20847e57db37db4"
  },
  {
   "cell_type": "markdown",
   "source": [
    "# Part 5\n",
    "\n",
    "**High-Frequency Components**: In image, noise and fine details are often high-frequency components. These components are captured by singular vectors corresponding to smaller singular values. Because noise is distributed throughout the image, it doesn't get fully captured until we include a large number of the lower-ranked singular values and vectors.\n",
    "\n",
    "**Distribution of Singular Values**: The largest singular values capture the most prominent features of the image, such as edges and broad areas of contrast, which are critical for recognizing the main subjects and shapes within the image. As we move to smaller singular values, the details they capture become less about the essential structure of the image and more about subtle variations in texture and color, including noise. The gray haze or noise we observe is due to these subtle variations not being fully captured or separated from the image until we include a large number of singular values in the approximation.\n",
    "\n",
    "**Nature of Image Noise**: Image noise can arise from various sources, including the original capture process and the inherent texture of the subjects. This noise is not uniformly distributed and can be spatially complex, requiring a high level of detail to accurately represent. Since SVD captures details in order of their energy contribution to the image, the nuanced, less energy-dominant noise patterns only get accurately reconstructed when a high number of singular values and vectors are included.\n",
    "\n",
    "The persistence of gray haze and random background noise until high ranks in SVD-based image approximations is due to the nature of noise as a high-frequency, low-energy component that is intricately distributed across the image. Accurately capturing and removing this noise requires incorporating a large number of the finer, less significant singular values and vectors into the reconstruction, which only happens at higher ranks."
   ],
   "metadata": {
    "collapsed": false
   },
   "id": "339ea7e2bcc13928"
  }
 ],
 "metadata": {
  "kernelspec": {
   "display_name": "Python 3",
   "language": "python",
   "name": "python3"
  },
  "language_info": {
   "codemirror_mode": {
    "name": "ipython",
    "version": 2
   },
   "file_extension": ".py",
   "mimetype": "text/x-python",
   "name": "python",
   "nbconvert_exporter": "python",
   "pygments_lexer": "ipython2",
   "version": "2.7.6"
  }
 },
 "nbformat": 4,
 "nbformat_minor": 5
}
