{
 "cells": [
  {
   "cell_type": "code",
   "execution_count": 87,
   "id": "c5a5e208fa295b34",
   "metadata": {
    "ExecuteTime": {
     "end_time": "2024-03-25T00:58:27.703168Z",
     "start_time": "2024-03-25T00:58:27.693039Z"
    },
    "collapsed": false
   },
   "outputs": [],
   "source": [
    "import numpy as np\n",
    "from tqdm import tqdm\n",
    "import json\n",
    "import matplotlib.pyplot as plt\n",
    "from scipy.sparse.linalg import svds"
   ]
  },
  {
   "cell_type": "code",
   "execution_count": 2,
   "id": "3fc20eb7577ee814",
   "metadata": {
    "ExecuteTime": {
     "end_time": "2024-03-23T05:48:47.364357Z",
     "start_time": "2024-03-23T05:48:47.313361Z"
    },
    "collapsed": false
   },
   "outputs": [
    {
     "data": {
      "text/plain": [
       "((60000, 3), (60000, 3))"
      ]
     },
     "execution_count": 2,
     "metadata": {},
     "output_type": "execute_result"
    }
   ],
   "source": [
    "# Load the training data\n",
    "train_data_path = \"./train.txt\"\n",
    "train_data = np.loadtxt(train_data_path, delimiter=',')\n",
    "\n",
    "# Load the test data\n",
    "test_data_path = \"./test.txt\"\n",
    "test_data = np.loadtxt(test_data_path, delimiter=',')\n",
    "\n",
    "train_data.shape, test_data.shape"
   ]
  },
  {
   "cell_type": "code",
   "execution_count": 3,
   "id": "initial_id",
   "metadata": {
    "ExecuteTime": {
     "end_time": "2024-03-23T05:48:48.809255Z",
     "start_time": "2024-03-23T05:48:48.745488Z"
    },
    "collapsed": true
   },
   "outputs": [
    {
     "data": {
      "text/plain": [
       "((1000, 500), (1000, 500))"
      ]
     },
     "execution_count": 3,
     "metadata": {},
     "output_type": "execute_result"
    }
   ],
   "source": [
    "# Define the matrix dimensions\n",
    "n_users = 1000\n",
    "n_movies = 500\n",
    "\n",
    "# Initialize matrices with zeros\n",
    "train_matrix = np.zeros((n_users, n_movies))\n",
    "test_matrix = np.zeros((n_users, n_movies))\n",
    "\n",
    "# Populate the train matrix\n",
    "for i, j, s in train_data:\n",
    "    train_matrix[int(i)-1, int(j)-1] = s\n",
    "\n",
    "# Populate the test matrix\n",
    "for i, j, s in test_data:\n",
    "    test_matrix[int(i)-1, int(j)-1] = s\n",
    "\n",
    "train_matrix.shape, test_matrix.shape"
   ]
  },
  {
   "cell_type": "markdown",
   "id": "77852a3310ce4eda",
   "metadata": {
    "collapsed": false
   },
   "source": [
    "# Q1\n",
    "\n",
    "Here we implement the first estimator and  evaluate our learnt vector representations by two metrics"
   ]
  },
  {
   "cell_type": "code",
   "execution_count": 37,
   "id": "e22aa17e1d5fcd11",
   "metadata": {
    "ExecuteTime": {
     "end_time": "2024-03-23T06:34:07.752068Z",
     "start_time": "2024-03-23T06:34:07.730744Z"
    },
    "collapsed": false
   },
   "outputs": [
    {
     "name": "stdout",
     "output_type": "stream",
     "text": [
      "Training MSE: 0.559, Training MAE: 0.596\n",
      "Test MSE: 0.570, Test MAE: 0.602\n"
     ]
    }
   ],
   "source": [
    "def simple_estimator(train_matrix, test_matrix):\n",
    "    # Calculate the average rating for each movie in the training set\n",
    "    movie_means = np.sum(train_matrix, axis=0) / np.count_nonzero(train_matrix, axis=0)\n",
    "    movie_means[np.isnan(movie_means)] = 0\n",
    "\n",
    "    # Function to predict ratings\n",
    "    def predict_ratings(matrix, movie_means):\n",
    "        predictions = np.zeros_like(matrix)\n",
    "        for j in range(matrix.shape[1]):\n",
    "            predictions[:, j] = movie_means[j]\n",
    "        return predictions\n",
    "    \n",
    "    # Calculate predicted ratings for train and test matrices\n",
    "    train_predictions = predict_ratings(train_matrix, movie_means)\n",
    "    test_predictions = predict_ratings(test_matrix, movie_means)\n",
    "\n",
    "    # Function to calculate MSE and MAE\n",
    "    def calculate_metrics(actual, predicted):\n",
    "        mask = actual != 0\n",
    "        mse = np.mean((predicted[mask] - actual[mask]) ** 2)\n",
    "        mae = np.mean(np.abs(predicted[mask] - actual[mask]))\n",
    "        return mse, mae\n",
    "\n",
    "    # Calculate and print metrics for the training and test sets\n",
    "    train_mse, train_mae = calculate_metrics(train_matrix, train_predictions)\n",
    "    test_mse, test_mae = calculate_metrics(test_matrix, test_predictions)\n",
    "    \n",
    "    return train_mse, train_mae, test_mse, test_mae\n",
    "\n",
    "\n",
    "train_mse, train_mae, test_mse, test_mae = simple_estimator(train_matrix, test_matrix)\n",
    "print(f\"Training MSE: {train_mse:.3f}, Training MAE: {train_mae:.3f}\")\n",
    "print(f\"Test MSE: {test_mse:.3f}, Test MAE: {test_mae:.3f}\")"
   ]
  }
 ],
 "metadata": {
  "kernelspec": {
   "display_name": "Python 3",
   "language": "python",
   "name": "python3"
  },
  "language_info": {
   "codemirror_mode": {
    "name": "ipython",
    "version": 2
   },
   "file_extension": ".py",
   "mimetype": "text/x-python",
   "name": "python",
   "nbconvert_exporter": "python",
   "pygments_lexer": "ipython2",
   "version": "2.7.6"
  }
 },
 "nbformat": 4,
 "nbformat_minor": 5
}
