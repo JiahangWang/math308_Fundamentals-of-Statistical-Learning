{
 "cells": [
  {
   "cell_type": "code",
   "execution_count": 6,
   "id": "initial_id",
   "metadata": {
    "collapsed": true,
    "ExecuteTime": {
     "end_time": "2024-03-25T03:47:41.610533Z",
     "start_time": "2024-03-25T03:47:41.602763Z"
    }
   },
   "outputs": [],
   "source": [
    "import pandas as pd\n",
    "import numpy as np\n",
    "from scipy.sparse import csgraph\n",
    "from scipy.linalg import eigh"
   ]
  },
  {
   "cell_type": "code",
   "outputs": [
    {
     "data": {
      "text/plain": "   artist_familiarity  artist_ hotttnesss  artist_num_songs   release  \\\n0            0.570278            0.344414         -0.380229  0.033102   \n1           -0.179399           -0.306438         -0.278760  0.102305   \n2           -0.172195           -0.589682          0.261041 -0.133294   \n3            0.623788           -0.190461          0.161531  0.071320   \n4            0.192972           -0.298097          0.088428  0.472626   \n\n   duration    energy   pitches    timbre  loudness  danceability  \n0  0.212251 -0.295284 -0.178672 -0.367908 -0.105688     -0.315910  \n1  0.730888  0.270387 -0.039409 -0.320095 -0.271154      0.029891  \n2 -0.429221 -0.270769 -0.355272 -0.109027 -0.032178     -0.374202  \n3  0.201448 -0.342355 -0.288166  0.490152 -0.110037      0.224162  \n4  0.463764  0.342086  0.110808  0.017268  0.454363     -0.302626  ",
      "text/html": "<div>\n<style scoped>\n    .dataframe tbody tr th:only-of-type {\n        vertical-align: middle;\n    }\n\n    .dataframe tbody tr th {\n        vertical-align: top;\n    }\n\n    .dataframe thead th {\n        text-align: right;\n    }\n</style>\n<table border=\"1\" class=\"dataframe\">\n  <thead>\n    <tr style=\"text-align: right;\">\n      <th></th>\n      <th>artist_familiarity</th>\n      <th>artist_ hotttnesss</th>\n      <th>artist_num_songs</th>\n      <th>release</th>\n      <th>duration</th>\n      <th>energy</th>\n      <th>pitches</th>\n      <th>timbre</th>\n      <th>loudness</th>\n      <th>danceability</th>\n    </tr>\n  </thead>\n  <tbody>\n    <tr>\n      <th>0</th>\n      <td>0.570278</td>\n      <td>0.344414</td>\n      <td>-0.380229</td>\n      <td>0.033102</td>\n      <td>0.212251</td>\n      <td>-0.295284</td>\n      <td>-0.178672</td>\n      <td>-0.367908</td>\n      <td>-0.105688</td>\n      <td>-0.315910</td>\n    </tr>\n    <tr>\n      <th>1</th>\n      <td>-0.179399</td>\n      <td>-0.306438</td>\n      <td>-0.278760</td>\n      <td>0.102305</td>\n      <td>0.730888</td>\n      <td>0.270387</td>\n      <td>-0.039409</td>\n      <td>-0.320095</td>\n      <td>-0.271154</td>\n      <td>0.029891</td>\n    </tr>\n    <tr>\n      <th>2</th>\n      <td>-0.172195</td>\n      <td>-0.589682</td>\n      <td>0.261041</td>\n      <td>-0.133294</td>\n      <td>-0.429221</td>\n      <td>-0.270769</td>\n      <td>-0.355272</td>\n      <td>-0.109027</td>\n      <td>-0.032178</td>\n      <td>-0.374202</td>\n    </tr>\n    <tr>\n      <th>3</th>\n      <td>0.623788</td>\n      <td>-0.190461</td>\n      <td>0.161531</td>\n      <td>0.071320</td>\n      <td>0.201448</td>\n      <td>-0.342355</td>\n      <td>-0.288166</td>\n      <td>0.490152</td>\n      <td>-0.110037</td>\n      <td>0.224162</td>\n    </tr>\n    <tr>\n      <th>4</th>\n      <td>0.192972</td>\n      <td>-0.298097</td>\n      <td>0.088428</td>\n      <td>0.472626</td>\n      <td>0.463764</td>\n      <td>0.342086</td>\n      <td>0.110808</td>\n      <td>0.017268</td>\n      <td>0.454363</td>\n      <td>-0.302626</td>\n    </tr>\n  </tbody>\n</table>\n</div>"
     },
     "execution_count": 2,
     "metadata": {},
     "output_type": "execute_result"
    }
   ],
   "source": [
    "# Load the dataset\n",
    "songs_df = pd.read_csv('./songs.csv')\n",
    "\n",
    "# Display the first few rows of the dataset to understand its structure\n",
    "songs_df.head()"
   ],
   "metadata": {
    "collapsed": false,
    "ExecuteTime": {
     "end_time": "2024-03-25T03:34:29.168304Z",
     "start_time": "2024-03-25T03:34:29.153373Z"
    }
   },
   "id": "1d70dd7b7eb7e5a8",
   "execution_count": 2
  },
  {
   "cell_type": "code",
   "outputs": [
    {
     "data": {
      "text/plain": "((1000, 1000),\n array([[1, 0, 0, 0, 0],\n        [0, 1, 0, 0, 0],\n        [0, 0, 1, 0, 0],\n        [0, 0, 0, 1, 0],\n        [0, 0, 0, 0, 1]]))"
     },
     "execution_count": 5,
     "metadata": {},
     "output_type": "execute_result"
    }
   ],
   "source": [
    "from scipy.spatial.distance import pdist, squareform\n",
    "\n",
    "# Calculate the pairwise Euclidean distances between all songs\n",
    "distance_matrix = pdist(songs_df.values, metric='euclidean')\n",
    "\n",
    "# Convert the distances into a square matrix form\n",
    "square_distance_matrix = squareform(distance_matrix)\n",
    "\n",
    "# Generate the adjacency matrix where 1 indicates a distance smaller than 1, and 0 otherwise\n",
    "adjacency_matrix = (square_distance_matrix < 1).astype(int)\n",
    "\n",
    "# View the shape to confirm it's a 1000x1000 matrix and preview the matrix\n",
    "adjacency_matrix.shape, adjacency_matrix[:5, :5]  # Display only a small portion to get a sense of the matrix"
   ],
   "metadata": {
    "collapsed": false,
    "ExecuteTime": {
     "end_time": "2024-03-25T03:38:31.102024Z",
     "start_time": "2024-03-25T03:38:31.091475Z"
    }
   },
   "id": "88fbd6f2c129e352",
   "execution_count": 5
  },
  {
   "cell_type": "code",
   "outputs": [
    {
     "data": {
      "text/plain": "array([2, 1, 2, 2, 1])"
     },
     "execution_count": 7,
     "metadata": {},
     "output_type": "execute_result"
    }
   ],
   "source": [
    "# Step 2: Compute the degree matrix D\n",
    "degree_matrix = np.diag(adjacency_matrix.sum(axis=1))\n",
    "\n",
    "# Step 3: Compute the unnormalized Laplacian L\n",
    "laplacian_matrix = degree_matrix - adjacency_matrix\n",
    "\n",
    "# Step 4: Compute the normalized Laplacian\n",
    "# Using the symmetric normalized Laplacian formula: L_sym = D^(-1/2) * L * D^(-1/2)\n",
    "D_inv_sqrt = np.diag(1 / np.sqrt(degree_matrix.diagonal()))\n",
    "normalized_laplacian_matrix = D_inv_sqrt @ laplacian_matrix @ D_inv_sqrt\n",
    "\n",
    "# Step 5: Compute the eigenvector v corresponding to the second smallest eigenvalue of L\n",
    "# We use eigh, which is designed for Hermitian matrices, which the Laplacian is.\n",
    "eigenvalues, eigenvectors = eigh(normalized_laplacian_matrix)\n",
    "\n",
    "# The eigenvector corresponding to the second smallest eigenvalue (since they are sorted in ascending order)\n",
    "v = eigenvectors[:, 1]\n",
    "\n",
    "# Step 6: Let x be the list of elements from the eigenvector v\n",
    "x = v\n",
    "\n",
    "# Step 7: Cluster each xi using the indicator function I\n",
    "clusters = np.where(x >= 0, 1, 2)\n",
    "\n",
    "# Report the final cluster labels for the first 5 songs\n",
    "clusters[:5]"
   ],
   "metadata": {
    "collapsed": false,
    "ExecuteTime": {
     "end_time": "2024-03-25T03:47:54.287836Z",
     "start_time": "2024-03-25T03:47:53.881490Z"
    }
   },
   "id": "37440bc3e507a7a4",
   "execution_count": 7
  },
  {
   "cell_type": "code",
   "outputs": [
    {
     "data": {
      "text/plain": "(['energy', 'danceability', 'pitches'],\n [0.6555892018012586, 0.07532449523470011, 0.03411942206564113])"
     },
     "execution_count": 9,
     "metadata": {},
     "output_type": "execute_result"
    }
   ],
   "source": [
    "# Split the original features into the two clusters based on the labels obtained\n",
    "cluster_1 = songs_df[clusters == 1]\n",
    "cluster_2 = songs_df[clusters == 2]\n",
    "\n",
    "# Calculate the mean feature values across all samples in each cluster\n",
    "mean_cluster_1 = cluster_1.mean()\n",
    "mean_cluster_2 = cluster_2.mean()\n",
    "\n",
    "# Calculate the difference between the mean features of the two clusters\n",
    "mean_difference = (mean_cluster_1 - mean_cluster_2).abs()\n",
    "\n",
    "# Identify the top 3 features with the highest absolute mean difference\n",
    "top_3_features = mean_difference.nlargest(3).index.tolist()\n",
    "top_3_features_values = mean_difference.nlargest(3).values.tolist()\n",
    "\n",
    "top_3_features, top_3_features_values"
   ],
   "metadata": {
    "collapsed": false,
    "ExecuteTime": {
     "end_time": "2024-03-25T04:49:11.327165Z",
     "start_time": "2024-03-25T04:49:11.319300Z"
    }
   },
   "id": "6a3e7caa30f7cb0",
   "execution_count": 9
  }
 ],
 "metadata": {
  "kernelspec": {
   "display_name": "Python 3",
   "language": "python",
   "name": "python3"
  },
  "language_info": {
   "codemirror_mode": {
    "name": "ipython",
    "version": 2
   },
   "file_extension": ".py",
   "mimetype": "text/x-python",
   "name": "python",
   "nbconvert_exporter": "python",
   "pygments_lexer": "ipython2",
   "version": "2.7.6"
  }
 },
 "nbformat": 4,
 "nbformat_minor": 5
}
