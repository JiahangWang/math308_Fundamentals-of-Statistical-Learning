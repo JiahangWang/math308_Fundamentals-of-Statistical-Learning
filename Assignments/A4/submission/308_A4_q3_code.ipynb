{
  "nbformat": 4,
  "nbformat_minor": 0,
  "metadata": {
    "colab": {
      "provenance": []
    },
    "kernelspec": {
      "name": "python3",
      "display_name": "Python 3"
    },
    "language_info": {
      "name": "python"
    }
  },
  "cells": [
    {
      "cell_type": "code",
      "execution_count": 1,
      "metadata": {
        "id": "ZjuzF4yPWzPv"
      },
      "outputs": [],
      "source": [
        "import numpy as np"
      ]
    },
    {
      "cell_type": "code",
      "source": [
        "W = np.array([\n",
        "    [0, 1, 1, 0, 0, 0],\n",
        "    [0, 0, 1, 0, 0, 0],\n",
        "    [1, 1, 0, 0, 1, 1],\n",
        "    [0, 0, 0, 0, 1, 1],\n",
        "    [0, 0, 0, 1, 0, 1],\n",
        "    [0, 0, 1, 1, 0, 0],\n",
        "])\n",
        "\n",
        "D = np.array([\n",
        "    [2, 0, 0, 0, 0, 0],\n",
        "    [0, 1, 0, 0, 0, 0],\n",
        "    [0, 0, 4, 0, 0, 0],\n",
        "    [0, 0, 0, 2, 0, 0],\n",
        "    [0, 0, 0, 0, 2, 0],\n",
        "    [0, 0, 0, 0, 0, 2],\n",
        "])\n",
        "\n",
        "eta = 0.85\n",
        "N = W.shape[0]\n",
        "E = np.ones((N, N))\n",
        "\n",
        "# Computing D inverse\n",
        "D_inv = np.linalg.inv(D)\n",
        "\n",
        "# Compute P\n",
        "P = ((1 - eta) / N) * E + eta * np.dot(D_inv, W)\n",
        "P"
      ],
      "metadata": {
        "colab": {
          "base_uri": "https://localhost:8080/"
        },
        "id": "mcq4u6_NEqI8",
        "outputId": "dc00c5f9-216f-40ff-e2eb-68eda43a07ba"
      },
      "execution_count": 3,
      "outputs": [
        {
          "output_type": "execute_result",
          "data": {
            "text/plain": [
              "array([[0.025 , 0.45  , 0.45  , 0.025 , 0.025 , 0.025 ],\n",
              "       [0.025 , 0.025 , 0.875 , 0.025 , 0.025 , 0.025 ],\n",
              "       [0.2375, 0.2375, 0.025 , 0.025 , 0.2375, 0.2375],\n",
              "       [0.025 , 0.025 , 0.025 , 0.025 , 0.45  , 0.45  ],\n",
              "       [0.025 , 0.025 , 0.025 , 0.45  , 0.025 , 0.45  ],\n",
              "       [0.025 , 0.025 , 0.45  , 0.45  , 0.025 , 0.025 ]])"
            ]
          },
          "metadata": {},
          "execution_count": 3
        }
      ]
    },
    {
      "cell_type": "code",
      "source": [
        "# Compute the eigenvectors(left) and eigenvalues\n",
        "eigenvalues, eigenvectors = np.linalg.eig(P.T)\n",
        "\n",
        "# Find the index\n",
        "eigenvector_index = np.argmin(np.abs(eigenvalues - 1))\n",
        "\n",
        "# Extract the PageRank vector\n",
        "pi = eigenvectors[:, eigenvector_index].real\n",
        "\n",
        "# Normalize\n",
        "pi = pi / np.sum(pi)\n",
        "\n",
        "pi"
      ],
      "metadata": {
        "colab": {
          "base_uri": "https://localhost:8080/"
        },
        "id": "3fVuTD5CFsN-",
        "outputId": "54a4558c-336f-4d78-ae05-1d35241859ea"
      },
      "execution_count": 22,
      "outputs": [
        {
          "output_type": "execute_result",
          "data": {
            "text/plain": [
              "array([0.07735886, 0.11023638, 0.24639464, 0.18635389, 0.15655927,\n",
              "       0.22309696])"
            ]
          },
          "metadata": {},
          "execution_count": 22
        }
      ]
    },
    {
      "cell_type": "code",
      "source": [
        "# Initialize uniformly\n",
        "pi_t = np.ones(N) / N\n",
        "\n",
        "threshold = 1e-6\n",
        "delta = 1.0\n",
        "\n",
        "# Iteratively compute pi^(t) until convergence\n",
        "while delta > threshold:\n",
        "    pi_t_new = np.dot(pi_t, P)\n",
        "    delta = np.linalg.norm(pi_t_new - pi_t, 1)  # L1 norm\n",
        "    pi_t = pi_t_new\n",
        "\n",
        "\n",
        "pi_t"
      ],
      "metadata": {
        "colab": {
          "base_uri": "https://localhost:8080/"
        },
        "id": "nfe670GhGZ1d",
        "outputId": "3ce48fbe-755f-4322-836e-e7be54f42c3b"
      },
      "execution_count": 23,
      "outputs": [
        {
          "output_type": "execute_result",
          "data": {
            "text/plain": [
              "array([0.07735895, 0.11023655, 0.24639486, 0.18635365, 0.15655919,\n",
              "       0.22309679])"
            ]
          },
          "metadata": {},
          "execution_count": 23
        }
      ]
    }
  ]
}